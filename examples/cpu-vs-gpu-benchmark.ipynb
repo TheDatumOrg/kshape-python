{
 "cells": [
  {
   "cell_type": "code",
   "execution_count": 1,
   "id": "234c2451",
   "metadata": {},
   "outputs": [],
   "source": [
    "import time\n",
    "import numpy as np"
   ]
  },
  {
   "cell_type": "markdown",
   "id": "16aa17df",
   "metadata": {},
   "source": [
    "# Read Data"
   ]
  },
  {
   "cell_type": "code",
   "execution_count": 2,
   "id": "48804069",
   "metadata": {},
   "outputs": [],
   "source": [
    "ts = np.random.rand(500, 5000, 6)"
   ]
  },
  {
   "cell_type": "markdown",
   "id": "78ec245e",
   "metadata": {},
   "source": [
    "# CPU Benchamrk"
   ]
  },
  {
   "cell_type": "code",
   "execution_count": 3,
   "id": "d5f50c0a",
   "metadata": {},
   "outputs": [],
   "source": [
    "from kshape.core import KShapeClusteringCPU"
   ]
  },
  {
   "cell_type": "code",
   "execution_count": null,
   "id": "50be2d4c",
   "metadata": {},
   "outputs": [],
   "source": [
    "cpu_times = []\n",
    "for i in range(5):\n",
    "    start_time = time.time()\n",
    "    \n",
    "    ksc = KShapeClusteringCPU(n_clusters=3,n_jobs=-1)\n",
    "    ksc.fit(ts)\n",
    "    print(f'Iteration {i}: time: {time.time() - start_time}')\n",
    "    \n",
    "    cpu_times.append(time.time() - start_time)"
   ]
  },
  {
   "cell_type": "code",
   "execution_count": null,
   "id": "9d152604",
   "metadata": {},
   "outputs": [],
   "source": [
    "print('Mean CPU Benchmark for 5 Runs:', np.mean(cpu_times))"
   ]
  },
  {
   "cell_type": "markdown",
   "id": "1ebbefdc",
   "metadata": {},
   "source": [
    "# GPU Benchmark"
   ]
  },
  {
   "cell_type": "code",
   "execution_count": null,
   "id": "185d0a7d",
   "metadata": {},
   "outputs": [],
   "source": [
    "from kshape.core_gpu import KShapeClusteringGPU"
   ]
  },
  {
   "cell_type": "code",
   "execution_count": null,
   "id": "ac173d02",
   "metadata": {},
   "outputs": [],
   "source": [
    "gpu_times = []\n",
    "for i in range(5):\n",
    "    start_time = time.time()\n",
    "    \n",
    "    ksg = KShapeClusteringGPU(n_clusters=3)\n",
    "    ksg.fit(ts)\n",
    "    print(f'Iteration {i}: time: {time.time() - start_time}')\n",
    "    \n",
    "    gpu_times.append(time.time() - start_time)"
   ]
  },
  {
   "cell_type": "code",
   "execution_count": null,
   "id": "edff9f0c",
   "metadata": {
    "scrolled": true
   },
   "outputs": [],
   "source": [
    "print('Mean GPU Benchmark for 5 Runs:', np.mean(gpu_times))"
   ]
  },
  {
   "cell_type": "code",
   "execution_count": null,
   "id": "718f84e2-390c-41f1-b860-07a8b39189a5",
   "metadata": {},
   "outputs": [],
   "source": []
  }
 ],
 "metadata": {
  "kernelspec": {
   "display_name": "Lux Environment",
   "language": "python",
   "name": "luxenv"
  },
  "language_info": {
   "codemirror_mode": {
    "name": "ipython",
    "version": 3
   },
   "file_extension": ".py",
   "mimetype": "text/x-python",
   "name": "python",
   "nbconvert_exporter": "python",
   "pygments_lexer": "ipython3",
   "version": "3.8.13"
  }
 },
 "nbformat": 4,
 "nbformat_minor": 5
}
