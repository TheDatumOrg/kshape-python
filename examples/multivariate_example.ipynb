{
 "cells": [
  {
   "cell_type": "code",
   "execution_count": 1,
   "id": "a15d347c",
   "metadata": {},
   "outputs": [],
   "source": [
    "import os\n",
    "import csv\n",
    "import time\n",
    "import numpy as np\n",
    "import pandas as pd\n",
    "from scipy.io import arff\n",
    "from sklearn import preprocessing\n",
    "from tslearn.preprocessing import TimeSeriesScalerMeanVariance\n",
    "from sklearn.metrics import rand_score, normalized_mutual_info_score, adjusted_rand_score"
   ]
  },
  {
   "cell_type": "markdown",
   "id": "9943bbaa",
   "metadata": {},
   "source": [
    "# Read Data"
   ]
  },
  {
   "cell_type": "code",
   "execution_count": 2,
   "id": "82b89129",
   "metadata": {},
   "outputs": [],
   "source": [
    "def read_from_arff(path):\n",
    "    f = open(path, 'r', encoding='utf-8')\n",
    "    data = arff.loadarff(f)\n",
    "    df = pd.DataFrame(data[0])\n",
    "    f.close()\n",
    "\n",
    "    X = np.zeros((df[df.columns[0]].shape[0], df[df.columns[0]][0].shape[0], len(df[df.columns[0]][0][0])))\n",
    "    for i in range(df[df.columns[0]].shape[0]):\n",
    "        for j in range(df[df.columns[0]][0].shape[0]):\n",
    "            X[i, j, :] = list(df[df.columns[0]][i][j])\n",
    "\n",
    "    trans_label = pd.DataFrame(df[df.columns[1]].astype(str)).applymap(lambda x: x[2:-1])\n",
    "    le = preprocessing.LabelEncoder()\n",
    "    Y = le.fit_transform(trans_label[trans_label.columns[0]])\n",
    "\n",
    "    return X, Y"
   ]
  },
  {
   "cell_type": "code",
   "execution_count": 3,
   "id": "ae5b17a2",
   "metadata": {},
   "outputs": [],
   "source": [
    "def ArffDataset_Generate(root_path, dataset_name):\n",
    "    dataset_train_path = '{0}/{1}/{1}_TRAIN.arff'.format(root_path, dataset_name)\n",
    "    dataset_test_path = '{0}/{1}/{1}_TEST.arff'.format(root_path, dataset_name)\n",
    "\n",
    "    X_train, Y_train = read_from_arff(dataset_train_path)\n",
    "    X_test, Y_test = read_from_arff(dataset_test_path)\n",
    "    \n",
    "    X = np.concatenate((X_train, X_test), axis=0)\n",
    "    Y = np.concatenate((Y_train, Y_test), axis=0)\n",
    "    X = X.transpose(0, 2, 1)\n",
    "    X = TimeSeriesScalerMeanVariance(mu=0., std=1.).fit_transform(X)\n",
    "    num_clusters = len(set(Y))\n",
    "    \n",
    "    return np.nan_to_num(X), Y, num_clusters"
   ]
  },
  {
   "cell_type": "code",
   "execution_count": 4,
   "id": "fa09d7d9",
   "metadata": {},
   "outputs": [],
   "source": [
    "DATASET_PATH = '../data/multivariate_example/'\n",
    "DATASET_NAME = 'SpokenArabicDigits'\n",
    "\n",
    "ts, labels, num_clusters = ArffDataset_Generate(DATASET_PATH, DATASET_NAME)"
   ]
  },
  {
   "cell_type": "markdown",
   "id": "bf9c39a4",
   "metadata": {},
   "source": [
    "# CPU Benchmark"
   ]
  },
  {
   "cell_type": "code",
   "execution_count": 5,
   "id": "b4f80e83",
   "metadata": {},
   "outputs": [],
   "source": [
    "from kshape.core import kshape\n",
    "from kshape.core import KShapeClusteringCPU"
   ]
  },
  {
   "cell_type": "code",
   "execution_count": 6,
   "id": "3903b208",
   "metadata": {},
   "outputs": [],
   "source": [
    "cpu_times = []\n",
    "for i in range(5):\n",
    "    start_time = time.time()\n",
    "    \n",
    "    ksc = KShapeClusteringCPU(n_clusters=num_clusters,n_jobs=-1)\n",
    "    ksc.fit(ts)\n",
    "    \n",
    "    cpu_times.append(time.time() - start_time)"
   ]
  },
  {
   "cell_type": "code",
   "execution_count": 7,
   "id": "c914e225",
   "metadata": {},
   "outputs": [
    {
     "name": "stdout",
     "output_type": "stream",
     "text": [
      "Mean CPU Benchmark for 5 Runs: 2.1556129932403563\n"
     ]
    }
   ],
   "source": [
    "print('Mean CPU Benchmark for 5 Runs:', np.mean(cpu_times))"
   ]
  },
  {
   "cell_type": "code",
   "execution_count": 8,
   "id": "249f17fd",
   "metadata": {},
   "outputs": [],
   "source": [
    "predictions = ksc.labels_\n",
    "\n",
    "cluster_centers = np.zeros((num_clusters, ts.shape[1], ts.shape[2]))\n",
    "for k in range(num_clusters):\n",
    "    cluster_centers[k, :, :] = ksc.centroids_[k]"
   ]
  },
  {
   "cell_type": "code",
   "execution_count": 9,
   "id": "75cb8189",
   "metadata": {},
   "outputs": [
    {
     "name": "stdout",
     "output_type": "stream",
     "text": [
      "Rand Score: 1.0\n",
      "Adjusted Rand Score: 1.0\n",
      "Normalized Mutual Information: 1.0\n"
     ]
    }
   ],
   "source": [
    "ri_ks = rand_score(predictions, labels)\n",
    "print('Rand Score:', ri_ks)\n",
    "ari_ks = adjusted_rand_score(predictions, labels)\n",
    "print('Adjusted Rand Score:', ari_ks)\n",
    "nmi_ks = normalized_mutual_info_score(predictions, labels)\n",
    "print('Normalized Mutual Information:', nmi_ks)"
   ]
  },
  {
   "cell_type": "markdown",
   "id": "a22b8347",
   "metadata": {},
   "source": [
    "# GPU Benchmark"
   ]
  },
  {
   "cell_type": "code",
   "execution_count": 10,
   "id": "48fcba7f",
   "metadata": {},
   "outputs": [],
   "source": [
    "from kshape.core_gpu import kshape\n",
    "from kshape.core_gpu import KShapeClusteringGPU"
   ]
  },
  {
   "cell_type": "code",
   "execution_count": 11,
   "id": "6c72ddff",
   "metadata": {},
   "outputs": [],
   "source": [
    "gpu_times = []\n",
    "for i in range(5):\n",
    "    start_time = time.time()\n",
    "    \n",
    "    ksg = KShapeClusteringGPU(n_clusters=num_clusters)\n",
    "    ksg.fit(ts)\n",
    "    \n",
    "    gpu_times.append(time.time() - start_time)"
   ]
  },
  {
   "cell_type": "code",
   "execution_count": 12,
   "id": "5f8eb143",
   "metadata": {},
   "outputs": [
    {
     "name": "stdout",
     "output_type": "stream",
     "text": [
      "Mean GPU Benchmark for 5 Runs: 6.8629984855651855\n"
     ]
    }
   ],
   "source": [
    "print('Mean GPU Benchmark for 5 Runs:', np.mean(gpu_times))"
   ]
  },
  {
   "cell_type": "code",
   "execution_count": 13,
   "id": "94d1d612",
   "metadata": {},
   "outputs": [],
   "source": [
    "predictions = ksg.labels_\n",
    "\n",
    "cluster_centers = np.zeros((num_clusters, ts.shape[1], ts.shape[2]))\n",
    "for k in range(num_clusters):\n",
    "    cluster_centers[k, :, :] = ksg.centroids_[k].detach().cpu()"
   ]
  },
  {
   "cell_type": "code",
   "execution_count": 14,
   "id": "2ee7e9af",
   "metadata": {},
   "outputs": [
    {
     "name": "stdout",
     "output_type": "stream",
     "text": [
      "Rand Score: 1.0\n",
      "Adjusted Rand Score: 1.0\n",
      "Normalized Mutual Information: 1.0\n"
     ]
    }
   ],
   "source": [
    "ri_ks = rand_score(predictions, labels)\n",
    "print('Rand Score:', ri_ks)\n",
    "ari_ks = adjusted_rand_score(predictions, labels)\n",
    "print('Adjusted Rand Score:', ari_ks)\n",
    "nmi_ks = normalized_mutual_info_score(predictions, labels)\n",
    "print('Normalized Mutual Information:', nmi_ks)"
   ]
  },
  {
   "cell_type": "markdown",
   "id": "7370c585-d942-4a81-acb8-0d8c50b9106c",
   "metadata": {},
   "source": [
    "# TSLearn Benchmark"
   ]
  },
  {
   "cell_type": "code",
   "execution_count": 19,
   "id": "6e909999-0090-4a72-a6aa-c2279e9afc75",
   "metadata": {},
   "outputs": [],
   "source": [
    "from tslearn.clustering import KShape"
   ]
  },
  {
   "cell_type": "code",
   "execution_count": 20,
   "id": "78ceb640-a3c6-4acc-b3dd-b2be0e91cbcf",
   "metadata": {},
   "outputs": [],
   "source": [
    "tsl_times=[]\n",
    "for i in range(5):\n",
    "    start_time = time.time()\n",
    "    \n",
    "    start_time = time.time()\n",
    "    ks = KShape(n_clusters=num_clusters, n_init=1, random_state=0).fit(ts)\n",
    "\n",
    "    tsl_times.append(time.time() - start_time)"
   ]
  },
  {
   "cell_type": "code",
   "execution_count": 21,
   "id": "5dcf0280-648d-4ecc-9f47-697ad3210e5a",
   "metadata": {},
   "outputs": [
    {
     "name": "stdout",
     "output_type": "stream",
     "text": [
      "Mean TSLearn Benchmark for 5 Runs: 14.150329494476319\n"
     ]
    }
   ],
   "source": [
    "print('Mean TSLearn Benchmark for 5 Runs:', np.mean(tsl_times))"
   ]
  },
  {
   "cell_type": "code",
   "execution_count": 22,
   "id": "012de396-3c04-4435-9f6d-c8703f957e3c",
   "metadata": {},
   "outputs": [
    {
     "name": "stdout",
     "output_type": "stream",
     "text": [
      "Rand Score: 1.0\n",
      "Adjusted Rand Score: 1.0\n",
      "Normalized Mutual Information: 1.0\n"
     ]
    }
   ],
   "source": [
    "predictions = ks.labels_\n",
    "\n",
    "ri_ks = rand_score(predictions, labels)\n",
    "print('Rand Score:', ri_ks)\n",
    "ari_ks = adjusted_rand_score(predictions, labels)\n",
    "print('Adjusted Rand Score:', ari_ks)\n",
    "nmi_ks = normalized_mutual_info_score(predictions, labels)\n",
    "print('Normalized Mutual Information:', nmi_ks)"
   ]
  },
  {
   "cell_type": "code",
   "execution_count": null,
   "id": "5aee678c-2a5b-4a14-b3d4-d9bf769af9f3",
   "metadata": {},
   "outputs": [],
   "source": []
  }
 ],
 "metadata": {
  "kernelspec": {
   "display_name": "Python 3.8 env",
   "language": "python",
   "name": "env-3.8"
  },
  "language_info": {
   "codemirror_mode": {
    "name": "ipython",
    "version": 3
   },
   "file_extension": ".py",
   "mimetype": "text/x-python",
   "name": "python",
   "nbconvert_exporter": "python",
   "pygments_lexer": "ipython3",
   "version": "3.8.17"
  }
 },
 "nbformat": 4,
 "nbformat_minor": 5
}
